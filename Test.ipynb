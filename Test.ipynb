{
 "cells": [
  {
   "cell_type": "code",
   "execution_count": 11,
   "metadata": {},
   "outputs": [
    {
     "ename": "SyntaxError",
     "evalue": "invalid syntax (<ipython-input-11-819a925483d6>, line 12)",
     "output_type": "error",
     "traceback": [
      "\u001b[0;36m  File \u001b[0;32m\"<ipython-input-11-819a925483d6>\"\u001b[0;36m, line \u001b[0;32m12\u001b[0m\n\u001b[0;31m    except ValueError:\u001b[0m\n\u001b[0m    ^\u001b[0m\n\u001b[0;31mSyntaxError\u001b[0m\u001b[0;31m:\u001b[0m invalid syntax\n"
     ]
    }
   ],
   "source": [
    "gpa= input(\"What is your overall HighSchool GPA?\")\n",
    "sat= input(\"What is your highest SAT Score\")\n",
    "\n",
    "if float(gpa) > 2.4 and float(gpa) <3.2:\n",
    "    if int(sat) > 1200 and int(sat) < 1600:\n",
    "        print(\"Accepted!\")\n",
    "    else:\n",
    "        print(\"Denied\")\n",
    "else:\n",
    "    print(\"Denied\")\n",
    "    \n",
    "except ValueError:\n",
    "    print(\"Not Valid\")\n",
    "        "
   ]
  },
  {
   "cell_type": "code",
   "execution_count": null,
   "metadata": {},
   "outputs": [],
   "source": []
  }
 ],
 "metadata": {
  "kernelspec": {
   "display_name": "Python 3",
   "language": "python",
   "name": "python3"
  },
  "language_info": {
   "codemirror_mode": {
    "name": "ipython",
    "version": 3
   },
   "file_extension": ".py",
   "mimetype": "text/x-python",
   "name": "python",
   "nbconvert_exporter": "python",
   "pygments_lexer": "ipython3",
   "version": "3.8.3"
  }
 },
 "nbformat": 4,
 "nbformat_minor": 4
}
