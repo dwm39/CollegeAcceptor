{
 "cells": [
  {
   "cell_type": "code",
   "execution_count": null,
   "metadata": {},
   "outputs": [],
   "source": [
    "gpa= input(\"What is your overall HighSchool GPA?\")\n",
    "sat= input(\"What is your highest SAT Score\")\n",
    "\n",
    "try:\n",
    "\n",
    "    if float(gpa) > 2.4 and float(gpa) <3.1:\n",
    "        if int(sat) > 1200 and int(sat) < 1500:\n",
    "            print(\"Accepted!\")\n",
    "        else:\n",
    "            print(\"Denied\")\n",
    "    elif float(gpa) > 3.2 and float(gpa) < 6.0:\n",
    "        if int(sat) > 950 and int(sat) < 1600:\n",
    "            print(\"Accepted\")\n",
    "    else:\n",
    "        print(\"Denied\")\n",
    "\n",
    "except ValueError:\n",
    "    ValueError: print(\"Not Valid\")\n",
    "        "
   ]
  },
  {
   "cell_type": "code",
   "execution_count": null,
   "metadata": {},
   "outputs": [],
   "source": []
  }
 ],
 "metadata": {
  "kernelspec": {
   "display_name": "Python 3",
   "language": "python",
   "name": "python3"
  },
  "language_info": {
   "codemirror_mode": {
    "name": "ipython",
    "version": 3
   },
   "file_extension": ".py",
   "mimetype": "text/x-python",
   "name": "python",
   "nbconvert_exporter": "python",
   "pygments_lexer": "ipython3",
   "version": "3.8.3"
  }
 },
 "nbformat": 4,
 "nbformat_minor": 4
}
